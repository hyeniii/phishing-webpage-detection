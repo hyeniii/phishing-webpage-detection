{
 "cells": [
  {
   "attachments": {},
   "cell_type": "markdown",
   "metadata": {},
   "source": [
    "# Models for URL Legitimacy Classification"
   ]
  },
  {
   "cell_type": "code",
   "execution_count": 32,
   "metadata": {},
   "outputs": [],
   "source": [
    "# Load ibraries\n",
    "import matplotlib.pyplot as plt\n",
    "import numpy as np\n",
    "import pandas as pd\n",
    "import seaborn as sns\n",
    "from sklearn.ensemble import RandomForestClassifier\n",
    "from sklearn.model_selection import GridSearchCV, train_test_split\n",
    "import yaml"
   ]
  },
  {
   "attachments": {},
   "cell_type": "markdown",
   "metadata": {},
   "source": [
    "## Prepare Data"
   ]
  },
  {
   "cell_type": "code",
   "execution_count": 21,
   "metadata": {},
   "outputs": [],
   "source": [
    "# Read data\n",
    "df = pd.read_csv(\"../data/dataset_phishing.csv\")"
   ]
  },
  {
   "cell_type": "code",
   "execution_count": 22,
   "metadata": {},
   "outputs": [
    {
     "data": {
      "text/plain": [
       "(11430, 89)"
      ]
     },
     "execution_count": 22,
     "metadata": {},
     "output_type": "execute_result"
    }
   ],
   "source": [
    "# Data Shape\n",
    "df.shape"
   ]
  },
  {
   "cell_type": "code",
   "execution_count": 16,
   "metadata": {},
   "outputs": [
    {
     "data": {
      "text/html": [
       "<div>\n",
       "<style scoped>\n",
       "    .dataframe tbody tr th:only-of-type {\n",
       "        vertical-align: middle;\n",
       "    }\n",
       "\n",
       "    .dataframe tbody tr th {\n",
       "        vertical-align: top;\n",
       "    }\n",
       "\n",
       "    .dataframe thead th {\n",
       "        text-align: right;\n",
       "    }\n",
       "</style>\n",
       "<table border=\"1\" class=\"dataframe\">\n",
       "  <thead>\n",
       "    <tr style=\"text-align: right;\">\n",
       "      <th></th>\n",
       "      <th>url</th>\n",
       "      <th>length_url</th>\n",
       "      <th>length_hostname</th>\n",
       "      <th>ip</th>\n",
       "      <th>nb_dots</th>\n",
       "      <th>nb_hyphens</th>\n",
       "      <th>nb_at</th>\n",
       "      <th>nb_qm</th>\n",
       "      <th>nb_and</th>\n",
       "      <th>nb_or</th>\n",
       "      <th>...</th>\n",
       "      <th>domain_in_title</th>\n",
       "      <th>domain_with_copyright</th>\n",
       "      <th>whois_registered_domain</th>\n",
       "      <th>domain_registration_length</th>\n",
       "      <th>domain_age</th>\n",
       "      <th>web_traffic</th>\n",
       "      <th>dns_record</th>\n",
       "      <th>google_index</th>\n",
       "      <th>page_rank</th>\n",
       "      <th>status</th>\n",
       "    </tr>\n",
       "  </thead>\n",
       "  <tbody>\n",
       "    <tr>\n",
       "      <th>6309</th>\n",
       "      <td>https://iowastateparks.reserveamerica.com/camp...</td>\n",
       "      <td>122</td>\n",
       "      <td>33</td>\n",
       "      <td>0</td>\n",
       "      <td>3</td>\n",
       "      <td>2</td>\n",
       "      <td>0</td>\n",
       "      <td>1</td>\n",
       "      <td>1</td>\n",
       "      <td>0</td>\n",
       "      <td>...</td>\n",
       "      <td>1</td>\n",
       "      <td>1</td>\n",
       "      <td>0</td>\n",
       "      <td>200</td>\n",
       "      <td>7836</td>\n",
       "      <td>13186</td>\n",
       "      <td>0</td>\n",
       "      <td>0</td>\n",
       "      <td>5</td>\n",
       "      <td>legitimate</td>\n",
       "    </tr>\n",
       "    <tr>\n",
       "      <th>3116</th>\n",
       "      <td>http://www.traingames365.com/switchman/</td>\n",
       "      <td>39</td>\n",
       "      <td>21</td>\n",
       "      <td>0</td>\n",
       "      <td>2</td>\n",
       "      <td>0</td>\n",
       "      <td>0</td>\n",
       "      <td>0</td>\n",
       "      <td>0</td>\n",
       "      <td>0</td>\n",
       "      <td>...</td>\n",
       "      <td>1</td>\n",
       "      <td>0</td>\n",
       "      <td>0</td>\n",
       "      <td>236</td>\n",
       "      <td>3050</td>\n",
       "      <td>2259972</td>\n",
       "      <td>0</td>\n",
       "      <td>0</td>\n",
       "      <td>2</td>\n",
       "      <td>legitimate</td>\n",
       "    </tr>\n",
       "    <tr>\n",
       "      <th>8307</th>\n",
       "      <td>https://en.wikipedia.org/wiki/Category:Multime...</td>\n",
       "      <td>58</td>\n",
       "      <td>16</td>\n",
       "      <td>0</td>\n",
       "      <td>2</td>\n",
       "      <td>0</td>\n",
       "      <td>0</td>\n",
       "      <td>0</td>\n",
       "      <td>0</td>\n",
       "      <td>0</td>\n",
       "      <td>...</td>\n",
       "      <td>0</td>\n",
       "      <td>1</td>\n",
       "      <td>0</td>\n",
       "      <td>901</td>\n",
       "      <td>7134</td>\n",
       "      <td>13</td>\n",
       "      <td>0</td>\n",
       "      <td>0</td>\n",
       "      <td>7</td>\n",
       "      <td>legitimate</td>\n",
       "    </tr>\n",
       "    <tr>\n",
       "      <th>8309</th>\n",
       "      <td>https://en.wikipedia.org/wiki/Computer_hardware</td>\n",
       "      <td>47</td>\n",
       "      <td>16</td>\n",
       "      <td>0</td>\n",
       "      <td>2</td>\n",
       "      <td>0</td>\n",
       "      <td>0</td>\n",
       "      <td>0</td>\n",
       "      <td>0</td>\n",
       "      <td>0</td>\n",
       "      <td>...</td>\n",
       "      <td>0</td>\n",
       "      <td>1</td>\n",
       "      <td>0</td>\n",
       "      <td>905</td>\n",
       "      <td>7130</td>\n",
       "      <td>12</td>\n",
       "      <td>0</td>\n",
       "      <td>0</td>\n",
       "      <td>7</td>\n",
       "      <td>legitimate</td>\n",
       "    </tr>\n",
       "    <tr>\n",
       "      <th>2807</th>\n",
       "      <td>http://citrulline.fr/wp-includes/assets/survu/...</td>\n",
       "      <td>218</td>\n",
       "      <td>13</td>\n",
       "      <td>1</td>\n",
       "      <td>1</td>\n",
       "      <td>2</td>\n",
       "      <td>0</td>\n",
       "      <td>1</td>\n",
       "      <td>2</td>\n",
       "      <td>0</td>\n",
       "      <td>...</td>\n",
       "      <td>1</td>\n",
       "      <td>1</td>\n",
       "      <td>0</td>\n",
       "      <td>318</td>\n",
       "      <td>778</td>\n",
       "      <td>0</td>\n",
       "      <td>0</td>\n",
       "      <td>1</td>\n",
       "      <td>1</td>\n",
       "      <td>phishing</td>\n",
       "    </tr>\n",
       "  </tbody>\n",
       "</table>\n",
       "<p>5 rows × 89 columns</p>\n",
       "</div>"
      ],
      "text/plain": [
       "                                                    url  length_url  \\\n",
       "6309  https://iowastateparks.reserveamerica.com/camp...         122   \n",
       "3116            http://www.traingames365.com/switchman/          39   \n",
       "8307  https://en.wikipedia.org/wiki/Category:Multime...          58   \n",
       "8309    https://en.wikipedia.org/wiki/Computer_hardware          47   \n",
       "2807  http://citrulline.fr/wp-includes/assets/survu/...         218   \n",
       "\n",
       "      length_hostname  ip  nb_dots  nb_hyphens  nb_at  nb_qm  nb_and  nb_or  \\\n",
       "6309               33   0        3           2      0      1       1      0   \n",
       "3116               21   0        2           0      0      0       0      0   \n",
       "8307               16   0        2           0      0      0       0      0   \n",
       "8309               16   0        2           0      0      0       0      0   \n",
       "2807               13   1        1           2      0      1       2      0   \n",
       "\n",
       "      ...  domain_in_title  domain_with_copyright  whois_registered_domain  \\\n",
       "6309  ...                1                      1                        0   \n",
       "3116  ...                1                      0                        0   \n",
       "8307  ...                0                      1                        0   \n",
       "8309  ...                0                      1                        0   \n",
       "2807  ...                1                      1                        0   \n",
       "\n",
       "      domain_registration_length  domain_age  web_traffic  dns_record  \\\n",
       "6309                         200        7836        13186           0   \n",
       "3116                         236        3050      2259972           0   \n",
       "8307                         901        7134           13           0   \n",
       "8309                         905        7130           12           0   \n",
       "2807                         318         778            0           0   \n",
       "\n",
       "      google_index  page_rank      status  \n",
       "6309             0          5  legitimate  \n",
       "3116             0          2  legitimate  \n",
       "8307             0          7  legitimate  \n",
       "8309             0          7  legitimate  \n",
       "2807             1          1    phishing  \n",
       "\n",
       "[5 rows x 89 columns]"
      ]
     },
     "execution_count": 16,
     "metadata": {},
     "output_type": "execute_result"
    }
   ],
   "source": [
    "# Data sample\n",
    "df.sample(5, random_state = 373)"
   ]
  },
  {
   "cell_type": "code",
   "execution_count": 23,
   "metadata": {},
   "outputs": [],
   "source": [
    "# Remove url column\n",
    "df = df.drop(columns = \"url\")\n",
    "\n",
    "# Remove columns with all zeros\n",
    "df = df.drop(columns = [\"nb_or\", \"ratio_nullHyperlinks\", \"ratio_intErrors\", \n",
    "                        \"ratio_intRedirection\", \"submit_email\", \"sfh\"])\n",
    "\n",
    "# Remove columns with strong/perfect correlation\n",
    "df = df.drop(columns = [\"ratio_extHyperlinks\", \"longest_words_raw\"])\n",
    "\n",
    "# Check and remove duplicates\n",
    "df = df.drop_duplicates()\n",
    "\n",
    "#Drop NA\n",
    "df = df.dropna()"
   ]
  },
  {
   "cell_type": "code",
   "execution_count": 25,
   "metadata": {},
   "outputs": [],
   "source": [
    "# Find all the columns that starts with \"nb_\"\n",
    "nb_features = [item for item in df.columns if item.startswith(\"nb_\")]\n",
    "\n",
    "# Standardize all these columns by the length of the url\n",
    "for col in nb_features:\n",
    "    df[col] = df[col]/df[\"length_url\"]"
   ]
  },
  {
   "cell_type": "code",
   "execution_count": 43,
   "metadata": {},
   "outputs": [],
   "source": [
    "# Create train/test split\n",
    "X_train, X_test, y_train, y_test = train_test_split(df.drop(\"status\", axis = 1), df[\"status\"], \n",
    "                                                    test_size = 0.2, random_state = 373)"
   ]
  },
  {
   "attachments": {},
   "cell_type": "markdown",
   "metadata": {},
   "source": [
    "## Data without External Features"
   ]
  },
  {
   "cell_type": "code",
   "execution_count": 45,
   "metadata": {},
   "outputs": [],
   "source": [
    "external_features = [\"whois_registered_domain\", \"domain_registration_length\", \n",
    "                     \"domain_age\", \"web_traffic\", \"dns_record\", \n",
    "                     \"google_index\", \"page_rank\"]\n",
    "\n",
    "df_nef = df.drop(columns = external_features)"
   ]
  },
  {
   "cell_type": "code",
   "execution_count": 46,
   "metadata": {},
   "outputs": [],
   "source": [
    "# Create train/test split for data without external features\n",
    "X_train_nef, X_test_nef, y_train_nef, y_test_nef = train_test_split(df_nef.drop(\"status\", axis = 1), df_nef[\"status\"], \n",
    "                                                    test_size = 0.2, random_state = 373)"
   ]
  },
  {
   "attachments": {},
   "cell_type": "markdown",
   "metadata": {},
   "source": [
    "## Model 1: Random Forest"
   ]
  },
  {
   "attachments": {},
   "cell_type": "markdown",
   "metadata": {},
   "source": [
    "### *Full Data*"
   ]
  },
  {
   "cell_type": "code",
   "execution_count": 41,
   "metadata": {},
   "outputs": [
    {
     "name": "stdout",
     "output_type": "stream",
     "text": [
      "Best Hyperparameters: {'max_depth': None, 'min_samples_split': 2, 'n_estimators': 500}\n",
      "Model Accuracy: 96.40%\n"
     ]
    }
   ],
   "source": [
    "# Create a random forest classifier\n",
    "rf = RandomForestClassifier(random_state = 373)\n",
    "\n",
    "# Define grid \n",
    "param_grid = {\n",
    "    \"n_estimators\": [50, 100, 500, 1000],\n",
    "    \"max_depth\": [None, 3, 5, 10],\n",
    "    \"min_samples_split\": [2, 4, 5, 10]\n",
    "}\n",
    "\n",
    "# Create grid search object with 10-fold cross-validation\n",
    "grid_search = GridSearchCV(rf, param_grid, cv = 3)\n",
    "\n",
    "# Fit grid search object to the training data\n",
    "grid_search.fit(X_train, y_train)\n",
    "\n",
    "# Print optimal hyperparameters and the corresponding model accuracy\n",
    "print(\"Best Hyperparameters:\", grid_search.best_params_)\n",
    "print(\"Model Accuracy: {:.2f}%\".format(grid_search.best_score_ * 100))"
   ]
  },
  {
   "cell_type": "code",
   "execution_count": 42,
   "metadata": {},
   "outputs": [
    {
     "name": "stdout",
     "output_type": "stream",
     "text": [
      "Random Forest Test Accuracy: 96.54%\n"
     ]
    }
   ],
   "source": [
    "# Create a random forest classifier\n",
    "rf = RandomForestClassifier(n_estimators = 500, min_samples_split = 2, max_depth = None, random_state = 373)\n",
    "\n",
    "# Train model on the training data\n",
    "rf.fit(X_train, y_train)\n",
    "\n",
    "# Predict the target variable on test data\n",
    "y_pred = rf.predict(X_test)\n",
    "\n",
    "# Evaluate model test accuracy\n",
    "accuracy = rf.score(X_test, y_test)\n",
    "print(\"Random Forest Test Accuracy: {:.2f}%\".format(accuracy * 100))"
   ]
  },
  {
   "attachments": {},
   "cell_type": "markdown",
   "metadata": {},
   "source": [
    "### *No External Features*"
   ]
  },
  {
   "cell_type": "code",
   "execution_count": 50,
   "metadata": {},
   "outputs": [
    {
     "name": "stdout",
     "output_type": "stream",
     "text": [
      "Best Hyperparameters: {'max_depth': None, 'min_samples_split': 5, 'n_estimators': 1000}\n",
      "Model Accuracy: 93.16%\n"
     ]
    }
   ],
   "source": [
    "# Create a random forest classifier\n",
    "rf = RandomForestClassifier(random_state = 373)\n",
    "\n",
    "# Define grid \n",
    "param_grid = {\n",
    "    \"n_estimators\": [50, 100, 500, 1000],\n",
    "    \"max_depth\": [None, 3, 5, 10],\n",
    "    \"min_samples_split\": [2, 4, 5, 10]\n",
    "}\n",
    "\n",
    "# Create grid search object with 10-fold cross-validation\n",
    "grid_search = GridSearchCV(rf, param_grid, cv = 3)\n",
    "\n",
    "# Fit grid search object to the training data\n",
    "grid_search.fit(X_train_nef, y_train_nef)\n",
    "\n",
    "# Print optimal hyperparameters and the corresponding model accuracy\n",
    "print(\"Best Hyperparameters:\", grid_search.best_params_)\n",
    "print(\"Model Accuracy: {:.2f}%\".format(grid_search.best_score_ * 100))"
   ]
  },
  {
   "cell_type": "code",
   "execution_count": 51,
   "metadata": {},
   "outputs": [
    {
     "name": "stdout",
     "output_type": "stream",
     "text": [
      "Random Forest Test Accuracy: 93.52%\n"
     ]
    }
   ],
   "source": [
    "# Create a random forest classifier\n",
    "rf = RandomForestClassifier(n_estimators = 1000, min_samples_split = 5, max_depth = None, random_state = 373)\n",
    "\n",
    "# Train model on the training data\n",
    "rf.fit(X_train_nef, y_train_nef)\n",
    "\n",
    "# Predict the target variable on test data\n",
    "y_pred = rf.predict(X_test_nef)\n",
    "\n",
    "# Evaluate model test accuracy\n",
    "accuracy = rf.score(X_test_nef, y_test_nef)\n",
    "print(\"Random Forest Test Accuracy: {:.2f}%\".format(accuracy * 100))"
   ]
  },
  {
   "cell_type": "markdown",
   "metadata": {},
   "source": []
  },
  {
   "cell_type": "code",
   "execution_count": null,
   "metadata": {},
   "outputs": [],
   "source": []
  },
  {
   "cell_type": "code",
   "execution_count": null,
   "metadata": {},
   "outputs": [],
   "source": []
  },
  {
   "cell_type": "code",
   "execution_count": null,
   "metadata": {},
   "outputs": [],
   "source": []
  },
  {
   "cell_type": "code",
   "execution_count": null,
   "metadata": {},
   "outputs": [],
   "source": []
  }
 ],
 "metadata": {
  "kernelspec": {
   "display_name": "base",
   "language": "python",
   "name": "python3"
  },
  "language_info": {
   "codemirror_mode": {
    "name": "ipython",
    "version": 3
   },
   "file_extension": ".py",
   "mimetype": "text/x-python",
   "name": "python",
   "nbconvert_exporter": "python",
   "pygments_lexer": "ipython3",
   "version": "3.8.8"
  },
  "orig_nbformat": 4
 },
 "nbformat": 4,
 "nbformat_minor": 2
}
