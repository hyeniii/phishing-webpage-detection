{
 "cells": [
  {
   "cell_type": "code",
   "execution_count": 7,
   "metadata": {},
   "outputs": [
    {
     "name": "stdout",
     "output_type": "stream",
     "text": [
      "/Users/lixuanchen/Documents/GitHub/phishing-webpage-detection/phish-inference\n"
     ]
    }
   ],
   "source": [
    "import pandas as pd\n",
    "import yaml\n",
    "from src.feature_extractor import extract_features"
   ]
  },
  {
   "cell_type": "code",
   "execution_count": 17,
   "metadata": {},
   "outputs": [
    {
     "data": {
      "text/html": [
       "<div>\n",
       "<style scoped>\n",
       "    .dataframe tbody tr th:only-of-type {\n",
       "        vertical-align: middle;\n",
       "    }\n",
       "\n",
       "    .dataframe tbody tr th {\n",
       "        vertical-align: top;\n",
       "    }\n",
       "\n",
       "    .dataframe thead th {\n",
       "        text-align: right;\n",
       "    }\n",
       "</style>\n",
       "<table border=\"1\" class=\"dataframe\">\n",
       "  <thead>\n",
       "    <tr style=\"text-align: right;\">\n",
       "      <th></th>\n",
       "      <th>url</th>\n",
       "      <th>length_url</th>\n",
       "      <th>length_hostname</th>\n",
       "      <th>ip</th>\n",
       "      <th>nb_dots</th>\n",
       "      <th>nb_hyphens</th>\n",
       "      <th>nb_at</th>\n",
       "      <th>nb_qm</th>\n",
       "      <th>nb_and</th>\n",
       "      <th>nb_eq</th>\n",
       "      <th>...</th>\n",
       "      <th>ratio_extMedia</th>\n",
       "      <th>iframe</th>\n",
       "      <th>popup_window</th>\n",
       "      <th>safe_anchor</th>\n",
       "      <th>onmouseover</th>\n",
       "      <th>right_clic</th>\n",
       "      <th>empty_title</th>\n",
       "      <th>domain_in_title</th>\n",
       "      <th>domain_with_copyright</th>\n",
       "      <th>status</th>\n",
       "    </tr>\n",
       "  </thead>\n",
       "  <tbody>\n",
       "  </tbody>\n",
       "</table>\n",
       "<p>0 rows × 74 columns</p>\n",
       "</div>"
      ],
      "text/plain": [
       "Empty DataFrame\n",
       "Columns: [url, length_url, length_hostname, ip, nb_dots, nb_hyphens, nb_at, nb_qm, nb_and, nb_eq, nb_underscore, nb_tilde, nb_percent, nb_slash, nb_star, nb_colon, nb_comma, nb_semicolumn, nb_dollar, nb_space, nb_www, nb_com, nb_dslash, http_in_path, https_token, ratio_digits_url, ratio_digits_host, punycode, port, tld_in_path, tld_in_subdomain, abnormal_subdomain, nb_subdomains, prefix_suffix, random_domain, shortening_service, path_extension, nb_redirection, nb_external_redirection, length_words_raw, char_repeat, shortest_words_raw, shortest_word_host, shortest_word_path, longest_word_host, longest_word_path, avg_words_raw, avg_word_host, avg_word_path, phish_hints, domain_in_brand, brand_in_subdomain, brand_in_path, suspecious_tld, statistical_report, nb_hyperlinks, ratio_intHyperlinks, nb_extCSS, ratio_extRedirection, ratio_extErrors, login_form, external_favicon, links_in_tags, ratio_intMedia, ratio_extMedia, iframe, popup_window, safe_anchor, onmouseover, right_clic, empty_title, domain_in_title, domain_with_copyright, status]\n",
       "Index: []\n",
       "\n",
       "[0 rows x 74 columns]"
      ]
     },
     "execution_count": 17,
     "metadata": {},
     "output_type": "execute_result"
    }
   ],
   "source": [
    "\n",
    "# Load config file\n",
    "with open('./src/config.yaml', 'r') as f:\n",
    "    config = yaml.safe_load(f)\n",
    "\n",
    "# Access variables\n",
    "headers = config['headers']\n",
    "count = 0\n",
    "data = pd.DataFrame(columns=headers)\n",
    "data"
   ]
  },
  {
   "cell_type": "code",
   "execution_count": 28,
   "metadata": {},
   "outputs": [
    {
     "ename": "TypeError",
     "evalue": "nb_hyperlinks() takes 1 positional argument but 6 were given",
     "output_type": "error",
     "traceback": [
      "\u001b[0;31m---------------------------------------------------------------------------\u001b[0m",
      "\u001b[0;31mTypeError\u001b[0m                                 Traceback (most recent call last)",
      "Cell \u001b[0;32mIn[28], line 1\u001b[0m\n\u001b[0;32m----> 1\u001b[0m row \u001b[39m=\u001b[39m extract_features(\u001b[39m\"\u001b[39;49m\u001b[39mhttps://canvas.northwestern.edu\u001b[39;49m\u001b[39m\"\u001b[39;49m, \u001b[39m\"\u001b[39;49m\u001b[39mlegitimate\u001b[39;49m\u001b[39m\"\u001b[39;49m)\n\u001b[1;32m      2\u001b[0m \u001b[39mprint\u001b[39m(row)\n",
      "File \u001b[0;32m~/Documents/GitHub/phishing-webpage-detection/phish-inference/src/feature_extractor.py:401\u001b[0m, in \u001b[0;36mextract_features\u001b[0;34m(url, status)\u001b[0m\n\u001b[1;32m    331\u001b[0m scheme \u001b[39m=\u001b[39m parsed\u001b[39m.\u001b[39mscheme\n\u001b[1;32m    333\u001b[0m Href, Link, Anchor, Media, Form, CSS, Favicon, IFrame, Title, Text \u001b[39m=\u001b[39m extract_data_from_URL(hostname, content, domain, Href, Link, Anchor, Media, Form, CSS, Favicon, IFrame, Title, Text)\n\u001b[1;32m    335\u001b[0m row \u001b[39m=\u001b[39m [url,\n\u001b[1;32m    336\u001b[0m        \u001b[39m# url-based features\u001b[39;00m\n\u001b[1;32m    337\u001b[0m        urlfe\u001b[39m.\u001b[39murl_length(url),\n\u001b[1;32m    338\u001b[0m        urlfe\u001b[39m.\u001b[39murl_length(hostname),\n\u001b[1;32m    339\u001b[0m        urlfe\u001b[39m.\u001b[39mhaving_ip_address(url),\n\u001b[1;32m    340\u001b[0m        urlfe\u001b[39m.\u001b[39mcount_dots(url),\n\u001b[1;32m    341\u001b[0m        urlfe\u001b[39m.\u001b[39mcount_hyphens(url),\n\u001b[1;32m    342\u001b[0m        urlfe\u001b[39m.\u001b[39mcount_at(url),\n\u001b[1;32m    343\u001b[0m        urlfe\u001b[39m.\u001b[39mcount_exclamation(url),\n\u001b[1;32m    344\u001b[0m        urlfe\u001b[39m.\u001b[39mcount_and(url),\n\u001b[1;32m    345\u001b[0m        \u001b[39m#urlfe.count_or(url),\u001b[39;00m\n\u001b[1;32m    346\u001b[0m        urlfe\u001b[39m.\u001b[39mcount_equal(url),\n\u001b[1;32m    347\u001b[0m        urlfe\u001b[39m.\u001b[39mcount_underscore(url),\n\u001b[1;32m    348\u001b[0m        urlfe\u001b[39m.\u001b[39mcount_tilde(url),\n\u001b[1;32m    349\u001b[0m        urlfe\u001b[39m.\u001b[39mcount_percentage(url),\n\u001b[1;32m    350\u001b[0m        urlfe\u001b[39m.\u001b[39mcount_slash(url),\n\u001b[1;32m    351\u001b[0m        urlfe\u001b[39m.\u001b[39mcount_star(url),\n\u001b[1;32m    352\u001b[0m        urlfe\u001b[39m.\u001b[39mcount_colon(url),\n\u001b[1;32m    353\u001b[0m        urlfe\u001b[39m.\u001b[39mcount_comma(url),\n\u001b[1;32m    354\u001b[0m        urlfe\u001b[39m.\u001b[39mcount_semicolumn(url),\n\u001b[1;32m    355\u001b[0m        urlfe\u001b[39m.\u001b[39mcount_dollar(url),\n\u001b[1;32m    356\u001b[0m        urlfe\u001b[39m.\u001b[39mcount_space(url),\n\u001b[1;32m    357\u001b[0m        \n\u001b[1;32m    358\u001b[0m        urlfe\u001b[39m.\u001b[39mcheck_www(words_raw),\n\u001b[1;32m    359\u001b[0m        urlfe\u001b[39m.\u001b[39mcheck_com(words_raw),\n\u001b[1;32m    360\u001b[0m        urlfe\u001b[39m.\u001b[39mcount_double_slash(url),\n\u001b[1;32m    361\u001b[0m        urlfe\u001b[39m.\u001b[39mcount_http_token(path),\n\u001b[1;32m    362\u001b[0m        urlfe\u001b[39m.\u001b[39mhttps_token(scheme),\n\u001b[1;32m    363\u001b[0m        \n\u001b[1;32m    364\u001b[0m        urlfe\u001b[39m.\u001b[39mratio_digits(url),\n\u001b[1;32m    365\u001b[0m        urlfe\u001b[39m.\u001b[39mratio_digits(hostname),\n\u001b[1;32m    366\u001b[0m        urlfe\u001b[39m.\u001b[39mpunycode(url),\n\u001b[1;32m    367\u001b[0m        urlfe\u001b[39m.\u001b[39mport(url),\n\u001b[1;32m    368\u001b[0m        urlfe\u001b[39m.\u001b[39mtld_in_path(tld, path),\n\u001b[1;32m    369\u001b[0m        urlfe\u001b[39m.\u001b[39mtld_in_subdomain(tld, subdomain),\n\u001b[1;32m    370\u001b[0m        urlfe\u001b[39m.\u001b[39mabnormal_subdomain(url),\n\u001b[1;32m    371\u001b[0m        urlfe\u001b[39m.\u001b[39mcount_subdomain(url),\n\u001b[1;32m    372\u001b[0m        urlfe\u001b[39m.\u001b[39mprefix_suffix(url),\n\u001b[1;32m    373\u001b[0m        urlfe\u001b[39m.\u001b[39mrandom_domain(domain),\n\u001b[1;32m    374\u001b[0m        urlfe\u001b[39m.\u001b[39mshortening_service(url),\n\u001b[1;32m    375\u001b[0m        \n\u001b[1;32m    376\u001b[0m        \n\u001b[1;32m    377\u001b[0m        urlfe\u001b[39m.\u001b[39mpath_extension(path),\n\u001b[1;32m    378\u001b[0m        urlfe\u001b[39m.\u001b[39mcount_redirection(page),\n\u001b[1;32m    379\u001b[0m        urlfe\u001b[39m.\u001b[39mcount_external_redirection(page, domain),\n\u001b[1;32m    380\u001b[0m        urlfe\u001b[39m.\u001b[39mlength_word_raw(words_raw),\n\u001b[1;32m    381\u001b[0m        urlfe\u001b[39m.\u001b[39mchar_repeat(words_raw),\n\u001b[1;32m    382\u001b[0m        urlfe\u001b[39m.\u001b[39mshortest_word_length(words_raw),\n\u001b[1;32m    383\u001b[0m        urlfe\u001b[39m.\u001b[39mshortest_word_length(words_raw_host),\n\u001b[1;32m    384\u001b[0m        urlfe\u001b[39m.\u001b[39mshortest_word_length(words_raw_path),\n\u001b[1;32m    385\u001b[0m        \u001b[39m#urlfe.longest_word_length(words_raw),\u001b[39;00m\n\u001b[1;32m    386\u001b[0m        urlfe\u001b[39m.\u001b[39mlongest_word_length(words_raw_host),\n\u001b[1;32m    387\u001b[0m        urlfe\u001b[39m.\u001b[39mlongest_word_length(words_raw_path),\n\u001b[1;32m    388\u001b[0m        urlfe\u001b[39m.\u001b[39maverage_word_length(words_raw),\n\u001b[1;32m    389\u001b[0m        urlfe\u001b[39m.\u001b[39maverage_word_length(words_raw_host),\n\u001b[1;32m    390\u001b[0m        urlfe\u001b[39m.\u001b[39maverage_word_length(words_raw_path),\n\u001b[1;32m    391\u001b[0m        \n\u001b[1;32m    392\u001b[0m        urlfe\u001b[39m.\u001b[39mphish_hints(url),  \n\u001b[1;32m    393\u001b[0m        urlfe\u001b[39m.\u001b[39mdomain_in_brand(extracted_domain\u001b[39m.\u001b[39mdomain),\n\u001b[1;32m    394\u001b[0m        urlfe\u001b[39m.\u001b[39mbrand_in_path(extracted_domain\u001b[39m.\u001b[39mdomain,subdomain),\n\u001b[1;32m    395\u001b[0m        urlfe\u001b[39m.\u001b[39mbrand_in_path(extracted_domain\u001b[39m.\u001b[39mdomain,path),\n\u001b[1;32m    396\u001b[0m        urlfe\u001b[39m.\u001b[39msuspecious_tld(tld),\n\u001b[1;32m    397\u001b[0m        urlfe\u001b[39m.\u001b[39mstatistical_report(url, domain),\n\u001b[1;32m    398\u001b[0m \n\u001b[1;32m    399\u001b[0m        \n\u001b[1;32m    400\u001b[0m        \u001b[39m# # # content-based features\u001b[39;00m\n\u001b[0;32m--> 401\u001b[0m          ctnfe\u001b[39m.\u001b[39;49mnb_hyperlinks(Href, Link, Media, Form, CSS, Favicon),\n\u001b[1;32m    402\u001b[0m          ctnfe\u001b[39m.\u001b[39minternal_hyperlinks(Href, Link, Media, Form, CSS, Favicon),\n\u001b[1;32m    403\u001b[0m          \u001b[39m#ctnfe.external_hyperlinks(Href, Link, Media, Form, CSS, Favicon),\u001b[39;00m\n\u001b[1;32m    404\u001b[0m          \u001b[39m#ctnfe.null_hyperlinks(Href, Link, Media, Form, CSS, Favicon),\u001b[39;00m\n\u001b[1;32m    405\u001b[0m          ctnfe\u001b[39m.\u001b[39mexternal_css(CSS),\n\u001b[1;32m    406\u001b[0m          \u001b[39m#ctnfe.internal_redirection(Href, Link, Media, Form, CSS, Favicon),\u001b[39;00m\n\u001b[1;32m    407\u001b[0m          ctnfe\u001b[39m.\u001b[39mexternal_redirection(Href, Link, Media, Form, CSS, Favicon),\n\u001b[1;32m    408\u001b[0m          \u001b[39m#ctnfe.internal_errors(Href, Link, Media, Form, CSS, Favicon),\u001b[39;00m\n\u001b[1;32m    409\u001b[0m          ctnfe\u001b[39m.\u001b[39mexternal_errors(Href, Link, Media, Form, CSS, Favicon),\n\u001b[1;32m    410\u001b[0m          ctnfe\u001b[39m.\u001b[39mlogin_form(Form),\n\u001b[1;32m    411\u001b[0m          ctnfe\u001b[39m.\u001b[39mexternal_favicon(Favicon),\n\u001b[1;32m    412\u001b[0m          ctnfe\u001b[39m.\u001b[39mlinks_in_tags(Link),\n\u001b[1;32m    413\u001b[0m          \u001b[39m#ctnfe.submitting_to_email(Form),\u001b[39;00m\n\u001b[1;32m    414\u001b[0m          ctnfe\u001b[39m.\u001b[39minternal_media(Media),\n\u001b[1;32m    415\u001b[0m          ctnfe\u001b[39m.\u001b[39mexternal_media(Media),\n\u001b[1;32m    416\u001b[0m        \u001b[39m#  # additional content-based features\u001b[39;00m\n\u001b[1;32m    417\u001b[0m          \u001b[39m#ctnfe.sfh(Form),\u001b[39;00m\n\u001b[1;32m    418\u001b[0m          ctnfe\u001b[39m.\u001b[39miframe(IFrame),\n\u001b[1;32m    419\u001b[0m          ctnfe\u001b[39m.\u001b[39mpopup_window(Text),\n\u001b[1;32m    420\u001b[0m          ctnfe\u001b[39m.\u001b[39msafe_anchor(Anchor),\n\u001b[1;32m    421\u001b[0m          ctnfe\u001b[39m.\u001b[39monmouseover(Text),\n\u001b[1;32m    422\u001b[0m          ctnfe\u001b[39m.\u001b[39mright_clic(Text),\n\u001b[1;32m    423\u001b[0m          ctnfe\u001b[39m.\u001b[39mempty_title(Title),\n\u001b[1;32m    424\u001b[0m          ctnfe\u001b[39m.\u001b[39mdomain_in_title(extracted_domain\u001b[39m.\u001b[39mdomain, Title),\n\u001b[1;32m    425\u001b[0m          ctnfe\u001b[39m.\u001b[39mdomain_with_copyright(extracted_domain\u001b[39m.\u001b[39mdomain, Text),\n\u001b[1;32m    426\u001b[0m          \n\u001b[1;32m    427\u001b[0m        \u001b[39m# status\u001b[39;00m\n\u001b[1;32m    428\u001b[0m        status]\n\u001b[1;32m    429\u001b[0m \u001b[39m#print(row)\u001b[39;00m\n\u001b[1;32m    430\u001b[0m \u001b[39mreturn\u001b[39;00m row\n",
      "\u001b[0;31mTypeError\u001b[0m: nb_hyperlinks() takes 1 positional argument but 6 were given"
     ]
    }
   ],
   "source": [
    "row = extract_features(\"https://canvas.northwestern.edu\", \"legitimate\")\n",
    "print(row)"
   ]
  },
  {
   "cell_type": "code",
   "execution_count": 24,
   "metadata": {},
   "outputs": [
    {
     "ename": "TypeError",
     "evalue": "nb_hyperlinks() takes 1 positional argument but 6 were given",
     "output_type": "error",
     "traceback": [
      "\u001b[0;31m---------------------------------------------------------------------------\u001b[0m",
      "\u001b[0;31mTypeError\u001b[0m                                 Traceback (most recent call last)",
      "Cell \u001b[0;32mIn[24], line 2\u001b[0m\n\u001b[1;32m      1\u001b[0m \u001b[39mfor\u001b[39;00m u \u001b[39min\u001b[39;00m urls\u001b[39m.\u001b[39mvalues():\n\u001b[0;32m----> 2\u001b[0m     row \u001b[39m=\u001b[39m extract_features(u[\u001b[39m'\u001b[39;49m\u001b[39murl\u001b[39;49m\u001b[39m'\u001b[39;49m], u[\u001b[39m'\u001b[39;49m\u001b[39mstatus\u001b[39;49m\u001b[39m'\u001b[39;49m])\n\u001b[1;32m      3\u001b[0m     \u001b[39m#print(row)\u001b[39;00m\n\u001b[1;32m      4\u001b[0m     data\u001b[39m.\u001b[39mloc[count] \u001b[39m=\u001b[39m row\n",
      "File \u001b[0;32m~/Documents/GitHub/phishing-webpage-detection/phish-inference/src/feature_extractor.py:401\u001b[0m, in \u001b[0;36mextract_features\u001b[0;34m(url, status)\u001b[0m\n\u001b[1;32m    331\u001b[0m scheme \u001b[39m=\u001b[39m parsed\u001b[39m.\u001b[39mscheme\n\u001b[1;32m    333\u001b[0m Href, Link, Anchor, Media, Form, CSS, Favicon, IFrame, Title, Text \u001b[39m=\u001b[39m extract_data_from_URL(hostname, content, domain, Href, Link, Anchor, Media, Form, CSS, Favicon, IFrame, Title, Text)\n\u001b[1;32m    335\u001b[0m row \u001b[39m=\u001b[39m [url,\n\u001b[1;32m    336\u001b[0m        \u001b[39m# url-based features\u001b[39;00m\n\u001b[1;32m    337\u001b[0m        urlfe\u001b[39m.\u001b[39murl_length(url),\n\u001b[1;32m    338\u001b[0m        urlfe\u001b[39m.\u001b[39murl_length(hostname),\n\u001b[1;32m    339\u001b[0m        urlfe\u001b[39m.\u001b[39mhaving_ip_address(url),\n\u001b[1;32m    340\u001b[0m        urlfe\u001b[39m.\u001b[39mcount_dots(url),\n\u001b[1;32m    341\u001b[0m        urlfe\u001b[39m.\u001b[39mcount_hyphens(url),\n\u001b[1;32m    342\u001b[0m        urlfe\u001b[39m.\u001b[39mcount_at(url),\n\u001b[1;32m    343\u001b[0m        urlfe\u001b[39m.\u001b[39mcount_exclamation(url),\n\u001b[1;32m    344\u001b[0m        urlfe\u001b[39m.\u001b[39mcount_and(url),\n\u001b[1;32m    345\u001b[0m        \u001b[39m#urlfe.count_or(url),\u001b[39;00m\n\u001b[1;32m    346\u001b[0m        urlfe\u001b[39m.\u001b[39mcount_equal(url),\n\u001b[1;32m    347\u001b[0m        urlfe\u001b[39m.\u001b[39mcount_underscore(url),\n\u001b[1;32m    348\u001b[0m        urlfe\u001b[39m.\u001b[39mcount_tilde(url),\n\u001b[1;32m    349\u001b[0m        urlfe\u001b[39m.\u001b[39mcount_percentage(url),\n\u001b[1;32m    350\u001b[0m        urlfe\u001b[39m.\u001b[39mcount_slash(url),\n\u001b[1;32m    351\u001b[0m        urlfe\u001b[39m.\u001b[39mcount_star(url),\n\u001b[1;32m    352\u001b[0m        urlfe\u001b[39m.\u001b[39mcount_colon(url),\n\u001b[1;32m    353\u001b[0m        urlfe\u001b[39m.\u001b[39mcount_comma(url),\n\u001b[1;32m    354\u001b[0m        urlfe\u001b[39m.\u001b[39mcount_semicolumn(url),\n\u001b[1;32m    355\u001b[0m        urlfe\u001b[39m.\u001b[39mcount_dollar(url),\n\u001b[1;32m    356\u001b[0m        urlfe\u001b[39m.\u001b[39mcount_space(url),\n\u001b[1;32m    357\u001b[0m        \n\u001b[1;32m    358\u001b[0m        urlfe\u001b[39m.\u001b[39mcheck_www(words_raw),\n\u001b[1;32m    359\u001b[0m        urlfe\u001b[39m.\u001b[39mcheck_com(words_raw),\n\u001b[1;32m    360\u001b[0m        urlfe\u001b[39m.\u001b[39mcount_double_slash(url),\n\u001b[1;32m    361\u001b[0m        urlfe\u001b[39m.\u001b[39mcount_http_token(path),\n\u001b[1;32m    362\u001b[0m        urlfe\u001b[39m.\u001b[39mhttps_token(scheme),\n\u001b[1;32m    363\u001b[0m        \n\u001b[1;32m    364\u001b[0m        urlfe\u001b[39m.\u001b[39mratio_digits(url),\n\u001b[1;32m    365\u001b[0m        urlfe\u001b[39m.\u001b[39mratio_digits(hostname),\n\u001b[1;32m    366\u001b[0m        urlfe\u001b[39m.\u001b[39mpunycode(url),\n\u001b[1;32m    367\u001b[0m        urlfe\u001b[39m.\u001b[39mport(url),\n\u001b[1;32m    368\u001b[0m        urlfe\u001b[39m.\u001b[39mtld_in_path(tld, path),\n\u001b[1;32m    369\u001b[0m        urlfe\u001b[39m.\u001b[39mtld_in_subdomain(tld, subdomain),\n\u001b[1;32m    370\u001b[0m        urlfe\u001b[39m.\u001b[39mabnormal_subdomain(url),\n\u001b[1;32m    371\u001b[0m        urlfe\u001b[39m.\u001b[39mcount_subdomain(url),\n\u001b[1;32m    372\u001b[0m        urlfe\u001b[39m.\u001b[39mprefix_suffix(url),\n\u001b[1;32m    373\u001b[0m        urlfe\u001b[39m.\u001b[39mrandom_domain(domain),\n\u001b[1;32m    374\u001b[0m        urlfe\u001b[39m.\u001b[39mshortening_service(url),\n\u001b[1;32m    375\u001b[0m        \n\u001b[1;32m    376\u001b[0m        \n\u001b[1;32m    377\u001b[0m        urlfe\u001b[39m.\u001b[39mpath_extension(path),\n\u001b[1;32m    378\u001b[0m        urlfe\u001b[39m.\u001b[39mcount_redirection(page),\n\u001b[1;32m    379\u001b[0m        urlfe\u001b[39m.\u001b[39mcount_external_redirection(page, domain),\n\u001b[1;32m    380\u001b[0m        urlfe\u001b[39m.\u001b[39mlength_word_raw(words_raw),\n\u001b[1;32m    381\u001b[0m        urlfe\u001b[39m.\u001b[39mchar_repeat(words_raw),\n\u001b[1;32m    382\u001b[0m        urlfe\u001b[39m.\u001b[39mshortest_word_length(words_raw),\n\u001b[1;32m    383\u001b[0m        urlfe\u001b[39m.\u001b[39mshortest_word_length(words_raw_host),\n\u001b[1;32m    384\u001b[0m        urlfe\u001b[39m.\u001b[39mshortest_word_length(words_raw_path),\n\u001b[1;32m    385\u001b[0m        \u001b[39m#urlfe.longest_word_length(words_raw),\u001b[39;00m\n\u001b[1;32m    386\u001b[0m        urlfe\u001b[39m.\u001b[39mlongest_word_length(words_raw_host),\n\u001b[1;32m    387\u001b[0m        urlfe\u001b[39m.\u001b[39mlongest_word_length(words_raw_path),\n\u001b[1;32m    388\u001b[0m        urlfe\u001b[39m.\u001b[39maverage_word_length(words_raw),\n\u001b[1;32m    389\u001b[0m        urlfe\u001b[39m.\u001b[39maverage_word_length(words_raw_host),\n\u001b[1;32m    390\u001b[0m        urlfe\u001b[39m.\u001b[39maverage_word_length(words_raw_path),\n\u001b[1;32m    391\u001b[0m        \n\u001b[1;32m    392\u001b[0m        urlfe\u001b[39m.\u001b[39mphish_hints(url),  \n\u001b[1;32m    393\u001b[0m        urlfe\u001b[39m.\u001b[39mdomain_in_brand(extracted_domain\u001b[39m.\u001b[39mdomain),\n\u001b[1;32m    394\u001b[0m        urlfe\u001b[39m.\u001b[39mbrand_in_path(extracted_domain\u001b[39m.\u001b[39mdomain,subdomain),\n\u001b[1;32m    395\u001b[0m        urlfe\u001b[39m.\u001b[39mbrand_in_path(extracted_domain\u001b[39m.\u001b[39mdomain,path),\n\u001b[1;32m    396\u001b[0m        urlfe\u001b[39m.\u001b[39msuspecious_tld(tld),\n\u001b[1;32m    397\u001b[0m        urlfe\u001b[39m.\u001b[39mstatistical_report(url, domain),\n\u001b[1;32m    398\u001b[0m \n\u001b[1;32m    399\u001b[0m        \n\u001b[1;32m    400\u001b[0m        \u001b[39m# # # content-based features\u001b[39;00m\n\u001b[0;32m--> 401\u001b[0m          ctnfe\u001b[39m.\u001b[39;49mnb_hyperlinks(Href, Link, Media, Form, CSS, Favicon),\n\u001b[1;32m    402\u001b[0m          ctnfe\u001b[39m.\u001b[39minternal_hyperlinks(Href, Link, Media, Form, CSS, Favicon),\n\u001b[1;32m    403\u001b[0m          \u001b[39m#ctnfe.external_hyperlinks(Href, Link, Media, Form, CSS, Favicon),\u001b[39;00m\n\u001b[1;32m    404\u001b[0m          \u001b[39m#ctnfe.null_hyperlinks(Href, Link, Media, Form, CSS, Favicon),\u001b[39;00m\n\u001b[1;32m    405\u001b[0m          ctnfe\u001b[39m.\u001b[39mexternal_css(CSS),\n\u001b[1;32m    406\u001b[0m          \u001b[39m#ctnfe.internal_redirection(Href, Link, Media, Form, CSS, Favicon),\u001b[39;00m\n\u001b[1;32m    407\u001b[0m          ctnfe\u001b[39m.\u001b[39mexternal_redirection(Href, Link, Media, Form, CSS, Favicon),\n\u001b[1;32m    408\u001b[0m          \u001b[39m#ctnfe.internal_errors(Href, Link, Media, Form, CSS, Favicon),\u001b[39;00m\n\u001b[1;32m    409\u001b[0m          ctnfe\u001b[39m.\u001b[39mexternal_errors(Href, Link, Media, Form, CSS, Favicon),\n\u001b[1;32m    410\u001b[0m          ctnfe\u001b[39m.\u001b[39mlogin_form(Form),\n\u001b[1;32m    411\u001b[0m          ctnfe\u001b[39m.\u001b[39mexternal_favicon(Favicon),\n\u001b[1;32m    412\u001b[0m          ctnfe\u001b[39m.\u001b[39mlinks_in_tags(Link),\n\u001b[1;32m    413\u001b[0m          \u001b[39m#ctnfe.submitting_to_email(Form),\u001b[39;00m\n\u001b[1;32m    414\u001b[0m          ctnfe\u001b[39m.\u001b[39minternal_media(Media),\n\u001b[1;32m    415\u001b[0m          ctnfe\u001b[39m.\u001b[39mexternal_media(Media),\n\u001b[1;32m    416\u001b[0m        \u001b[39m#  # additional content-based features\u001b[39;00m\n\u001b[1;32m    417\u001b[0m          \u001b[39m#ctnfe.sfh(Form),\u001b[39;00m\n\u001b[1;32m    418\u001b[0m          ctnfe\u001b[39m.\u001b[39miframe(IFrame),\n\u001b[1;32m    419\u001b[0m          ctnfe\u001b[39m.\u001b[39mpopup_window(Text),\n\u001b[1;32m    420\u001b[0m          ctnfe\u001b[39m.\u001b[39msafe_anchor(Anchor),\n\u001b[1;32m    421\u001b[0m          ctnfe\u001b[39m.\u001b[39monmouseover(Text),\n\u001b[1;32m    422\u001b[0m          ctnfe\u001b[39m.\u001b[39mright_clic(Text),\n\u001b[1;32m    423\u001b[0m          ctnfe\u001b[39m.\u001b[39mempty_title(Title),\n\u001b[1;32m    424\u001b[0m          ctnfe\u001b[39m.\u001b[39mdomain_in_title(extracted_domain\u001b[39m.\u001b[39mdomain, Title),\n\u001b[1;32m    425\u001b[0m          ctnfe\u001b[39m.\u001b[39mdomain_with_copyright(extracted_domain\u001b[39m.\u001b[39mdomain, Text),\n\u001b[1;32m    426\u001b[0m          \n\u001b[1;32m    427\u001b[0m        \u001b[39m# status\u001b[39;00m\n\u001b[1;32m    428\u001b[0m        status]\n\u001b[1;32m    429\u001b[0m \u001b[39m#print(row)\u001b[39;00m\n\u001b[1;32m    430\u001b[0m \u001b[39mreturn\u001b[39;00m row\n",
      "\u001b[0;31mTypeError\u001b[0m: nb_hyperlinks() takes 1 positional argument but 6 were given"
     ]
    }
   ],
   "source": [
    "\n",
    "for u in urls.values():\n",
    "    row = extract_features(u['url'], u['status'])\n",
    "    #print(row)\n",
    "    data.loc[count] = row\n",
    "    count+=1\n",
    "\n",
    "print(data)"
   ]
  },
  {
   "cell_type": "code",
   "execution_count": 19,
   "metadata": {},
   "outputs": [
    {
     "data": {
      "text/plain": [
       "{'url1': {'url': 'https://www.chiefarchitect.com/', 'status': 'legitimate'},\n",
       " 'url2': {'url': 'https:google.com/', 'status': 'legitmate'}}"
      ]
     },
     "execution_count": 19,
     "metadata": {},
     "output_type": "execute_result"
    }
   ],
   "source": [
    "urls = config['urls']\n",
    "urls"
   ]
  },
  {
   "cell_type": "code",
   "execution_count": 22,
   "metadata": {},
   "outputs": [
    {
     "name": "stdout",
     "output_type": "stream",
     "text": [
      "https://www.chiefarchitect.com/\n",
      "https:google.com/\n"
     ]
    }
   ],
   "source": [
    "for u in urls.values():\n",
    "    print(u['url'])"
   ]
  },
  {
   "cell_type": "code",
   "execution_count": null,
   "metadata": {},
   "outputs": [],
   "source": []
  }
 ],
 "metadata": {
  "kernelspec": {
   "display_name": "base",
   "language": "python",
   "name": "python3"
  },
  "language_info": {
   "codemirror_mode": {
    "name": "ipython",
    "version": 3
   },
   "file_extension": ".py",
   "mimetype": "text/x-python",
   "name": "python",
   "nbconvert_exporter": "python",
   "pygments_lexer": "ipython3",
   "version": "3.9.12"
  },
  "orig_nbformat": 4
 },
 "nbformat": 4,
 "nbformat_minor": 2
}
